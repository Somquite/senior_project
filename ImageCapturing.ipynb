{
 "cells": [
  {
   "cell_type": "markdown",
   "metadata": {},
   "source": [
    "# Image Capturing\n"
   ]
  },
  {
   "cell_type": "code",
   "execution_count": 5,
   "metadata": {},
   "outputs": [],
   "source": [
    "# get jetbot instance to start \n",
    "from jetbot import Robot\n",
    "\n",
    "robot = Robot()"
   ]
  },
  {
   "cell_type": "code",
   "execution_count": 6,
   "metadata": {},
   "outputs": [],
   "source": [
    "# Create and display Image widget\n",
    "import ipywidgets.widgets as widgets\n",
    "\n",
    "# First, let's display an ``live_camera`` widget that we'll use to show our live camera feed.\n",
    "live_camera = widgets.Image(format='jpeg', width=300, height=300)\n",
    "\n",
    "# second, let's display an ``snapsot_image`` widget that we'll use to show snapshot captured.\n",
    "snapshot_image = widgets.Image(format='jpeg', width=300, height=300)"
   ]
  },
  {
   "cell_type": "code",
   "execution_count": 7,
   "metadata": {},
   "outputs": [],
   "source": [
    "# create a functions to handle robot according to signs\n",
    "\n",
    "def stop():\n",
    "    robot.stop()\n",
    "        \n",
    "def step_forward():\n",
    "    robot.forward(0.4)\n",
    "    time.sleep(0.5)\n",
    "    robot.stop()\n",
    "\n",
    "def step_backward():\n",
    "    robot.backward(0.4)\n",
    "    time.sleep(0.5)\n",
    "    robot.stop()\n",
    "\n",
    "def step_left():\n",
    "    robot.left(0.3)\n",
    "    time.sleep(0.5)\n",
    "    robot.stop()\n",
    "\n",
    "def step_right():\n",
    "    robot.right(0.3)\n",
    "    time.sleep(0.5)\n",
    "    robot.stop()\n",
    "\n",
    "# map the inputs to the function blocks\n",
    "move_options = {1 : step_forward,\n",
    "           2 : step_backward,\n",
    "           3 : step_right,\n",
    "           4 : step_left,\n",
    "           5 : stop,\n",
    "}\n",
    "\n",
    "# function to send picture to machine learning model for object detection. which will return a codeaccording to sign\n",
    "def check_sign(file_name , count):\n",
    "    return 1\n"
   ]
  },
  {
   "cell_type": "code",
   "execution_count": 8,
   "metadata": {},
   "outputs": [],
   "source": [
    "# get a camera instance to attach with 'live_camera' widget\n",
    "from jetbot import Camera\n",
    "\n",
    "# we call the ``instance`` method which will create a new camera if it hasn't been created yet. \n",
    "#If once already exists, this method will return the existing camera.\n",
    "camera = Camera.instance() "
   ]
  },
  {
   "cell_type": "markdown",
   "metadata": {},
   "source": [
    "### Connect Camera to Image widget"
   ]
  },
  {
   "cell_type": "markdown",
   "metadata": {},
   "source": [
    "Our camera class currently only produces values in BGR8 (blue, green, red, 8bit) format, while our image widget accepts values in compressed *JPEG*.\n",
    "To connect the camera to the image we need to insert the ``bgr8_to_jpeg`` function as a transform in the link.  We do this below"
   ]
  },
  {
   "cell_type": "code",
   "execution_count": 10,
   "metadata": {},
   "outputs": [],
   "source": [
    "from jetbot import bgr8_to_jpeg\n",
    "import traitlets\n",
    "\n",
    "camera_link = traitlets.dlink((camera, 'value'), (live_camera, 'value'), transform=bgr8_to_jpeg)"
   ]
  },
  {
   "cell_type": "code",
   "execution_count": 11,
   "metadata": {},
   "outputs": [
    {
     "data": {
      "application/vnd.jupyter.widget-view+json": {
       "model_id": "28cb94cad1c142d2b3ae94caf6eee111",
       "version_major": 2,
       "version_minor": 0
      },
      "text/plain": [
       "HBox(children=(Image(value=b'\\xff\\xd8\\xff\\xe0\\x00\\x10JFIF\\x00\\x01\\x01\\x00\\x00\\x01\\x00\\x01\\x00\\x00\\xff\\xdb\\x00C…"
      ]
     },
     "metadata": {},
     "output_type": "display_data"
    }
   ],
   "source": [
    "# display all widgets\n",
    "display(widgets.HBox([live_camera, snapshot_image]))"
   ]
  },
  {
   "cell_type": "code",
   "execution_count": null,
   "metadata": {},
   "outputs": [],
   "source": [
    "#capture and save snapshots\n",
    "import time\n",
    "import os\n",
    "from pathlib import Path\n",
    "\n",
    "interval_seconds = 5\n",
    "directory = 'snapshots'\n",
    "Path(directory).mkdir(parents=True, exist_ok=True)\n",
    "\n",
    "count = 0\n",
    "\n",
    "while True:\n",
    "    file_name = os.path.join(directory, 'image_%d.jpeg' % count)\n",
    "    with open(file_name, 'wb') as f:\n",
    "        f.write(bgr8_to_jpeg(camera.value))  \n",
    "    # to check a sign using machine learning model\n",
    "    sign = check_sign(file_name, count)\n",
    "    move_options[sign]()\n",
    "    # display snapshot that was saved\n",
    "    snapshot_image.value = live_camera.value\n",
    "    count +=  1\n",
    "    time.sleep(interval_seconds)"
   ]
  },
  {
   "cell_type": "markdown",
   "metadata": {},
   "source": [
    "### Stop robot if network disconnects\n",
    "\n",
    "You can drive your robot around by looking through the video feed. But what if your robot disconnects from Wifi?  Well, the motors would keep moving and it would keep trying to stream video and motor commands.  Let's make it so that we stop the robot and unlink the camera and motors when a disconnect occurs."
   ]
  },
  {
   "cell_type": "code",
   "execution_count": null,
   "metadata": {},
   "outputs": [],
   "source": [
    "from jetbot import Heartbeat\n",
    "\n",
    "\n",
    "def handle_heartbeat_status(change):\n",
    "    if change['new'] == Heartbeat.Status.dead:\n",
    "        camera_link.unlink()\n",
    "        robot.stop()\n",
    "\n",
    "heartbeat = Heartbeat(period=0.5)\n",
    "\n",
    "# attach the callback function to heartbeat status\n",
    "heartbeat.observe(handle_heartbeat_status, names='status')"
   ]
  },
  {
   "cell_type": "markdown",
   "metadata": {},
   "source": [
    "If the robot disconnects from the internet you'll notice that it stops.  You can then re-connect the camera and motors by re-creating the links with the cell below"
   ]
  },
  {
   "cell_type": "code",
   "execution_count": null,
   "metadata": {},
   "outputs": [],
   "source": [
    "# only call this if your robot links were unlinked, otherwise we'll have redundant links which will double\n",
    "# the commands transfered\n",
    "camera_link = traitlets.dlink((camera, 'value'), (image, 'value'), transform=bgr8_to_jpeg)"
   ]
  }
 ],
 "metadata": {
  "kernelspec": {
   "display_name": "Python 3",
   "language": "python",
   "name": "python3"
  },
  "language_info": {
   "codemirror_mode": {
    "name": "ipython",
    "version": 3
   },
   "file_extension": ".py",
   "mimetype": "text/x-python",
   "name": "python",
   "nbconvert_exporter": "python",
   "pygments_lexer": "ipython3",
   "version": "3.6.8"
  }
 },
 "nbformat": 4,
 "nbformat_minor": 4
}
